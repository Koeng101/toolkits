{
 "cells": [
  {
   "cell_type": "code",
   "execution_count": 2,
   "metadata": {},
   "outputs": [],
   "source": [
    "import pandas as pd\n",
    "\n",
    "# check out https://journals.plos.org/plosone/article?id=10.1371/journal.pone.0238592\n",
    "# and https://docs.google.com/spreadsheets/d/1hhiKwaTJyWajH1fEUxZ_79DP4TRtlCBLvO6EtcqtxeY/edit#gid=0\n",
    "\n",
    "linkerPrefix = \"GCGATGNNNNNNNNNNGAGGTCTCNATCCGAATTCGCGGCCGCTTCTAGAGGAAGACNNNNNNGAGGNGAGACCCGCTNNNNNNNNNNCATCGC\"\n",
    "linkerSuffix = \"GCGATGNNNNNNNNNNGAGGTCTCNCGCTNNNNNNGTCTTCTACTAGTAGCGGCCGCTGCAGAGACNGAGACCCGCTNNNNNNNNNNCATCGC\""
   ]
  },
  {
   "cell_type": "code",
   "execution_count": 10,
   "metadata": {},
   "outputs": [],
   "source": [
    "# Find the proper 35 overhangs\n",
    "df = pd.read_excel(\"journal.pone.0238592.s007.xlsx\")\n",
    "overhangs = []\n",
    "for i, row in df.iterrows():\n",
    "    s = row[\"Sequence\"]\n",
    "    for_BsmBI = s.find(\"CGTCTC\")\n",
    "    rev_BsmBI = s.find(\"GAGACG\")\n",
    "    overhangs.append(s[for_BsmBI+7:for_BsmBI+11])\n",
    "    overhangs.append(s[rev_BsmBI-5:rev_BsmBI-1])\n",
    "overhangs = list(set(overhangs))"
   ]
  },
  {
   "cell_type": "code",
   "execution_count": 14,
   "metadata": {},
   "outputs": [
    {
     "name": "stdout",
     "output_type": "stream",
     "text": [
      "GCAA\n",
      "ACTA\n",
      "CAGG\n",
      "AAGG\n",
      "ATCC\n",
      "CGCT\n",
      "AGAC\n",
      "CGAA\n",
      "GCAA\n"
     ]
    }
   ],
   "source": [
    "backbone_overhangs = [\n",
    "    \"GCAA\", \"ACTA\", \"CAGG\", \"AAGG\", \"ATCC\", \"GGAG\", \"CGCT\", \"AGAC\", \"CGAA\", \"GCAA\"\n",
    "]\n",
    "for overhang in backbone_overhangs:\n",
    "    if overhang not in overhangs:\n",
    "        print(overhang)"
   ]
  }
 ],
 "metadata": {
  "kernelspec": {
   "display_name": "Python 3",
   "language": "python",
   "name": "python3"
  },
  "language_info": {
   "codemirror_mode": {
    "name": "ipython",
    "version": 3
   },
   "file_extension": ".py",
   "mimetype": "text/x-python",
   "name": "python",
   "nbconvert_exporter": "python",
   "pygments_lexer": "ipython3",
   "version": "3.8.6"
  }
 },
 "nbformat": 4,
 "nbformat_minor": 4
}
